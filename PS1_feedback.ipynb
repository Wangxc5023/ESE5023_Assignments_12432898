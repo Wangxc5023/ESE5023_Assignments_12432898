{
 "cells": [
  {
   "cell_type": "markdown",
   "id": "ec8d49f6",
   "metadata": {},
   "source": [
    "### Score: `[109]`\n",
    "\n",
    "Q1. `[11]` Good job! \n",
    "\n",
    "Q2. `[11]` Good job! memo 用的好\n",
    "\n",
    "Q3. `[22]` Good job! \n",
    "\n",
    "Q4. `[27]`Good job! \n",
    "\n",
    "Q5. `[38]` Good job!"
   ]
  },
  {
   "cell_type": "markdown",
   "id": "3ef112ff-69f8-48b9-b3c6-061e8e23c784",
   "metadata": {},
   "source": [
    "# 1. Flowchart"
   ]
  },
  {
   "cell_type": "code",
   "execution_count": 20,
   "id": "809c0233-9fbc-4b7e-9afa-d9ad98648bc9",
   "metadata": {
    "jp-MarkdownHeadingCollapsed": true
   },
   "outputs": [
    {
     "name": "stdout",
     "output_type": "stream",
     "text": [
      "输入a： 10\n",
      "输入b： 5\n",
      "输入c： 1\n"
     ]
    },
    {
     "name": "stdout",
     "output_type": "stream",
     "text": [
      "5\n"
     ]
    }
   ],
   "source": [
    "a = int(input(\"输入a：\"))\n",
    "b = int(input(\"输入b：\"))\n",
    "c = int(input(\"输入c：\"))\n",
    "\n",
    "def Print_values(a,b,c):\n",
    "    if a>b:\n",
    "        if b>c:\n",
    "            print(a+b-10*c)\n",
    "        else:\n",
    "            if a>c:\n",
    "                print(a+c-10*b)\n",
    "            else:\n",
    "                print(c+a-10*b)\n",
    "    else:\n",
    "        if b>c:\n",
    "            print(\"无输出\")\n",
    "        else:\n",
    "            print(c+b-10*a)\n",
    "\n",
    "Print_values(a,b,c)"
   ]
  },
  {
   "cell_type": "markdown",
   "id": "9ec349b4-4f10-4ac0-b7fb-6cd187088cc6",
   "metadata": {},
   "source": [
    "#### When a = 10, b = 5, c = 1, my output is 5."
   ]
  },
  {
   "cell_type": "markdown",
   "id": "fd00cfb4-b4ea-49ac-8d41-fdb965e76e08",
   "metadata": {},
   "source": [
    "# 2. Continuous ceiling function "
   ]
  },
  {
   "cell_type": "code",
   "execution_count": 1,
   "id": "9a741123-cfdf-4286-927f-01e76e9f8c99",
   "metadata": {},
   "outputs": [
    {
     "name": "stdout",
     "output_type": "stream",
     "text": [
      "[1. 2. 3. 4. 5.]\n",
      "[1, np.float64(5.0), np.float64(7.0), np.float64(13.0), np.float64(15.0)]\n",
      "[1, np.float64(5.0), np.float64(7.0), np.float64(13.0), np.float64(15.0), np.float64(305.0)]\n"
     ]
    }
   ],
   "source": [
    "import math\n",
    "import numpy as np\n",
    "n = int(input(\"要计算多少个正整数的函数值：\"))\n",
    "arr = np.linspace(1, n, n)\n",
    "print(arr)\n",
    "memo = { }  #define a dictionary to store the computerd F(x) values.\n",
    "\n",
    "def F(x):\n",
    "    if x == 1:\n",
    "        return 1\n",
    "    if x in memo:\n",
    "        return memo[x]\n",
    "    result = F(math.ceil(x/3)) + 2*x\n",
    "    memo[x] = result  #store the result for future reference\n",
    "    return result\n",
    "\n",
    "def compute_F(list):\n",
    "    return [F(x) for x in list]\n",
    "\n",
    "results = compute_F(arr)\n",
    "print(results)\n",
    "l = [1, 2, 3, 4, 5, 100]\n",
    "print(compute_F(l))"
   ]
  },
  {
   "cell_type": "markdown",
   "id": "34e753a3-47ea-4ab6-85d4-aefd1df95f4b",
   "metadata": {},
   "source": [
    "#### Here, I input n = 7."
   ]
  },
  {
   "cell_type": "markdown",
   "id": "553bf5ad-6d55-43e8-b2cf-51c15588c44e",
   "metadata": {},
   "source": [
    "# 3. Dice rolling"
   ]
  },
  {
   "cell_type": "code",
   "execution_count": 32,
   "id": "bf56be4f-13a5-479d-8ff9-17c5fbc6ca9d",
   "metadata": {
    "jp-MarkdownHeadingCollapsed": true
   },
   "outputs": [
    {
     "name": "stdout",
     "output_type": "stream",
     "text": [
      "{10: 1, 11: 10, 12: 55, 13: 220, 14: 715, 15: 2002, 16: 4995, 17: 11340, 18: 23760, 19: 46420, 20: 85228, 21: 147940, 22: 243925, 23: 383470, 24: 576565, 25: 831204, 26: 1151370, 27: 1535040, 28: 1972630, 29: 2446300, 30: 2930455, 31: 3393610, 32: 3801535, 33: 4121260, 34: 4325310, 35: 4395456, 36: 4325310, 37: 4121260, 38: 3801535, 39: 3393610, 40: 2930455, 41: 2446300, 42: 1972630, 43: 1535040, 44: 1151370, 45: 831204, 46: 576565, 47: 383470, 48: 243925, 49: 147940, 50: 85228, 51: 46420, 52: 23760, 53: 11340, 54: 4995, 55: 2002, 56: 715, 57: 220, 58: 55, 59: 10, 60: 1}\n",
      "[35] 4395456\n"
     ]
    }
   ],
   "source": [
    "def find_number_of_ways(n, s):  \n",
    "    # n: 骰子的数量, s: 目标和  \n",
    "    min_sum = n  # 目标数最小总和 (n个 1)  \n",
    "    max_sum = 6 * n  # 目标数最大总和 (n个 6)  \n",
    "    \n",
    "    # 如果目标和不在可达到的范围内，返回 0  \n",
    "    if s < min_sum or s > max_sum:  \n",
    "        return 0  \n",
    "    \n",
    "    # dp[i] 表示使用 n 个骰子得到总和为 i 的方式数  \n",
    "    ways = [[0] * (s + 1) for _ in range(n + 1)]  \n",
    "    \n",
    "    # 初始化：0 个骰子和为 0 的情况  \n",
    "    ways[0][0] = 1  \n",
    "    \n",
    "    # 进行迭代每个骰子  \n",
    "    for i in range(1, n + 1):  # 对每个骰子  \n",
    "        for j in range(i, s + 1):  # 当投掷 i个骰子时，和最小为 i，遍历和从 i 到 s 的情况  \n",
    "            # 累加每个骰子的面可能产生的结果  \n",
    "            for k in range(1, 7):  # 每个骰子可能的面  \n",
    "                if j - k >= 0:  \n",
    "                    ways[i][j] += ways[i - 1][j - k]  # 当前骰子的结果 dp[i - 1][j - k] 表示在使用 i - 1 个骰子时，想要得到和为 j - k 的方法数。这意味着，如果我们加上当前骰子的结果 k，我们就可以得到和为 j 的方式  \n",
    "\n",
    "    return ways[n][s]  \n",
    "\n",
    "# 计算从 10 到 60 所有和的方式数量  \n",
    "def count_all_ways(n):  \n",
    "    maximum_sum = 6 * n  \n",
    "    Number_of_ways = {}  #定义一个字典存储所有的目标和及其方法数量\n",
    "\n",
    "    for s in range(n, maximum_sum + 1):  # 从 n 到 6n  \n",
    "        Number_of_ways[s] = find_number_of_ways(n, s)   \n",
    "\n",
    "    max_value = max(Number_of_ways.values())    #获得字典中最大的方法数量\n",
    "    max_target = [key for key, value in Number_of_ways.items() if value == max_value] #获得字典中最大的方法数量对应的目标和\n",
    "    \n",
    "    return Number_of_ways, max_target, max_value  \n",
    "\n",
    "\n",
    "n = 10  # 投掷 10 个骰子  \n",
    "Number_of_ways, max_target, max_value = count_all_ways(n)  \n",
    "print(Number_of_ways)  # 输出目标和方式数字典  \n",
    "print(max_target, max_value)  # 输出最大数量和对应的目标数  \n",
    "\n",
    "# 特殊情况测试  \n",
    "#print(find_number_of_ways(n, 10))  # 输出方法数量，对于目标和为10"
   ]
  },
  {
   "cell_type": "markdown",
   "id": "af97259f-0647-4999-b526-9d50842b5a02",
   "metadata": {},
   "source": [
    "#### When x = 35, there are the maximum of the Number_of ways. The maximum of the Number_of ways is 4395456."
   ]
  },
  {
   "cell_type": "markdown",
   "id": "83351584-af64-4499-87ba-747336251320",
   "metadata": {},
   "source": [
    "# 4. Dynamic programming"
   ]
  },
  {
   "cell_type": "markdown",
   "id": "3da9c920-ec90-4129-94b6-9c8b6b4285b2",
   "metadata": {},
   "source": [
    "### code 1\n",
    "该题的图像绘制部分我请教了李东宸同学"
   ]
  },
  {
   "cell_type": "code",
   "execution_count": 2,
   "id": "212f9c2c-1d57-4927-8340-1b59095e1f94",
   "metadata": {},
   "outputs": [
    {
     "name": "stdout",
     "output_type": "stream",
     "text": [
      "[2.0, 24.0, 30.333333333333332, 75.00000000000001, 92.99999999999999, 325.50000000000006, 834.5714285714286, 1561.8750000000002, 2100.7777777777783, 3478.2000000000003, 9118.454545454551, 23546.250000000025, 44735.46153846107, 94787.35714285709, 198786.46666666702, 372730.3125000002, 763295.8235294132, 961190.9999999976, 2786999.315789446, 4928302.499999481]\n"
     ]
    },
    {
     "data": {
      "image/png": "[encoded data removed]",
      "text/plain": [
       "<Figure size 1000x500 with 1 Axes>"
      ]
     },
     "metadata": {},
     "output_type": "display_data"
    }
   ],
   "source": [
    "import random  \n",
    "from itertools import combinations   \n",
    "import matplotlib.pyplot as plt   \n",
    "# 使用 Jupyter Notebook 的默认绘图模式（inline 模式）\n",
    "%matplotlib inline\n",
    "def random_integer(N):  \n",
    "    return [random.randint(0, 10) for _ in range(N)]  # 生成 N个 0-10范围内的随机整数  \n",
    "\n",
    "def sum_averages(arr):  # 计算在给定数组的所有非空子集的平均值之和   \n",
    "    ave_sum = 0  \n",
    "    count = 0  \n",
    "    \n",
    "    # 遍历所有的非空子集  \n",
    "    for r in range(1, len(arr) + 1):  \n",
    "        for subset in combinations(arr, r):  # 用于生成数组中大小为 r 的所有组合（子集）  \n",
    "            avg = sum(subset) / len(subset)  # 计算当前子集的平均值  \n",
    "            ave_sum += avg  \n",
    "            count += 1  \n",
    "            \n",
    "    return ave_sum  \n",
    "\n",
    "N_values = list(range(1, 21))  # 从 1 到 100  \n",
    "Total_sum_averages = []  \n",
    "\n",
    "for N in N_values:  \n",
    "    random_array = random_integer(N)  # 生成随机数组  \n",
    "    total_sum = sum_averages(random_array)  # 计算所有子集的平均值的总和  \n",
    "    Total_sum_averages.append(total_sum)  # 将结果添加到列表中  \n",
    "print(Total_sum_averages)  \n",
    "\n",
    "# 绘制结果  \n",
    "plt.figure(figsize=(10, 5))  \n",
    "plt.plot(N_values, Total_sum_averages, marker='o')  \n",
    "plt.title('Sum of Averages of All Subsets vs N')  \n",
    "plt.xlabel('N (Size of the array)')  \n",
    "plt.ylabel('Total Sum of Averages')  \n",
    "plt.grid()  \n",
    "plt.show()  "
   ]
  },
  {
   "cell_type": "code",
   "execution_count": 3,
   "id": "d30d1d2f",
   "metadata": {},
   "outputs": [
    {
     "name": "stdout",
     "output_type": "stream",
     "text": [
      "142.6\n"
     ]
    }
   ],
   "source": [
    "array = [1, 2, 6, 6, 8]\n",
    "print(sum_averages(array))"
   ]
  },
  {
   "cell_type": "markdown",
   "id": "38d87ae9-4dcd-4ff2-8b67-b7d385d0c8f5",
   "metadata": {},
   "source": [
    "### code 2\n",
    "以上代码是通过遍历所有的非空子集来计算每个子集的平均值并求和，计算过程复杂，计算缓慢，故以上代码只计算了 N = 21 个元素时子集均值和，N = 100时运行无结果。请教尹自豪后，他指出以上代码迭代较复杂，应进行优化。在查阅相关材料后，对代码进行修改优化如下。"
   ]
  },
  {
   "cell_type": "code",
   "execution_count": 4,
   "id": "520c60a4-73f5-4f5e-996d-1ec2032ad61b",
   "metadata": {
    "scrolled": true
   },
   "outputs": [
    {
     "name": "stdout",
     "output_type": "stream",
     "text": [
      "[8.0, 0.0, 12.0, 56.0, 76.8, 133.33333333333334, 283.42857142857144, 784.0, 768.0, 2099.2, 5120.0, 8704.0, 24260.923076923078, 39789.71428571428, 76458.66666666667, 163840.0, 381650.82352941175, 669923.5555555555, 1103764.2105263157, 2542796.8, 5642337.523809524, 10581085.090909092, 22430408.347826086, 42292565.333333336, 66437775.36, 225847138.46153846, 320631239.1111111, 675882130.2857143, 1323664489.9310346, 2863311530.6666665, 5957535281.548388, 8589934592.0, 21474836480.0, 40675866744.47059, 94734707214.62857, 140302265002.66666, 369599347850.37836, 719746098445.4736, 1318004323039.1794, 2707547383398.4, 5041663073704.585, 11361620153685.334, 21069711192730.79, 39782329804986.18, 89133742625041.06, 179746248714685.22, 372804623409326.3, 606930418532352.0, 1252276426998428.8, 2724677774559150.0, 4878899596318037.0, 1.138891059613885e+16, 2.2772918870477224e+16, 4.60367961908984e+16, 9.432994128601475e+16, 1.717801572154175e+17, 3.5017462365800064e+17, 8.100267467711899e+17, 1.4509224019840404e+18, 3.276218608924457e+18, 5.273198357136234e+18, 1.2756518583230597e+19, 2.481526286106166e+19, 4.597274499619802e+19, 8.542261486440885e+19, 1.593127897274916e+20, 3.6673228516688246e+20, 7.877844822066549e+20, 1.475739525896764e+21, 2.791255903267594e+21, 5.869702001595017e+21, 1.2724154134398767e+22, 2.2059273570665053e+22, 4.696840177556836e+22, 1.0779588558230444e+23, 2.1126376370732623e+23, 3.885832991618451e+23, 8.330738821062348e+23, 1.5341115622324884e+24, 3.097872412762487e+24, 5.790903926055261e+24, 1.2148230187347005e+25, 2.3421117083618357e+25, 5.250192130897818e+25, 1.051338783363687e+26, 2.1322077711528716e+26, 3.610658447915693e+26, 8.299825263390617e+26, 1.3700797064001118e+27, 3.1705019895031125e+27, 6.094474039558796e+27, 1.2783076492620774e+28, 2.6409387504754778e+28, 4.256406603159946e+28, 9.632476600418454e+28, 2.1210039339756183e+29, 4.247282938909016e+29, 8.116844404522591e+29, 1.6677928351487565e+30, 3.3085680665956786e+30]\n"
     ]
    },
    {
     "data": {
      "image/png": "[encoded data removed]",
      "text/plain": [
       "<Figure size 1000x500 with 1 Axes>"
      ]
     },
     "metadata": {},
     "output_type": "display_data"
    }
   ],
   "source": [
    "import random  \n",
    "import matplotlib.pyplot as plt  \n",
    "\n",
    "# 使用 Jupyter Notebook 的默认绘图模式（inline 模式）  \n",
    "%matplotlib inline                                       \n",
    "\n",
    "def random_integer(N):  \n",
    "    return [random.randint(0, 10) for _ in range(N)]  # 生成 N个 0-10范围内的随机整数  \n",
    "\n",
    "def sum_averages(arr):  \n",
    "    total = sum(arr)  \n",
    "    n = len(arr) \n",
    "    \n",
    "    # BUG HERE: 表达式有误，看解释没有完全理解，可以再去问一下。\n",
    "    # 一个小的建议是：在确定之前代码答案无误的情况下想优化性能，可以对比同一个数组两个 function 输出是否一致\n",
    "    \n",
    "    # 每个元素的贡献  \n",
    "    # 每个元素出现的子集数是 2^(n-1)，所以总子集数除以元素个数  \n",
    "    return total * (2**(n-1)) / n  # 每个元素的贡献情况  \n",
    "\n",
    "N_values = list(range(1, 101))  # 从 1 到 20  \n",
    "Total_sum_averages = []  \n",
    "\n",
    "for N in N_values:  \n",
    "    random_array = random_integer(N)  # 生成随机数组  \n",
    "    total_sum = sum_averages(random_array)  # 计算所有子集的平均值的总和  \n",
    "    Total_sum_averages.append(total_sum)  # 将结果添加到列表中  \n",
    "\n",
    "print(Total_sum_averages)  \n",
    "\n",
    "# 绘制结果  \n",
    "plt.figure(figsize=(10, 5))  \n",
    "plt.plot(N_values, Total_sum_averages, marker='o')  \n",
    "plt.title('Sum of Averages of All Subsets vs N')  \n",
    "plt.xlabel('N (Size of the array)')  \n",
    "plt.ylabel('Total Sum of Averages')  \n",
    "plt.grid()  \n",
    "plt.show()"
   ]
  },
  {
   "cell_type": "code",
   "execution_count": 5,
   "id": "2e98311e",
   "metadata": {},
   "outputs": [
    {
     "data": {
      "text/plain": [
       "73.6"
      ]
     },
     "execution_count": 5,
     "metadata": {},
     "output_type": "execute_result"
    }
   ],
   "source": [
    "arr = [1, 2, 6, 6, 8]\n",
    "sum_averages(arr)"
   ]
  },
  {
   "cell_type": "markdown",
   "id": "a745a388-36e4-4257-adfd-caa9cc54202e",
   "metadata": {},
   "source": [
    "#### As N becomes larger, the sum of subsets in the array gradually increase, and the growth rate also gradually increase."
   ]
  },
  {
   "cell_type": "markdown",
   "id": "600106e4-7d00-4253-81af-7ed473f10ebe",
   "metadata": {},
   "source": [
    "# 5. Path counting"
   ]
  },
  {
   "cell_type": "code",
   "execution_count": 40,
   "id": "ca9e1afe-4429-41cf-83d2-5d8aa24e7ccd",
   "metadata": {},
   "outputs": [
    {
     "name": "stdout",
     "output_type": "stream",
     "text": [
      "Mean number of paths from (0,0) to (9,7): 0.281\n"
     ]
    }
   ],
   "source": [
    "import random  \n",
    "import numpy as np  \n",
    "\n",
    "#创建一个 N 行 M 列的矩阵，右下和左上角填充 1 其他随机填充 0 或 1  \n",
    "def create_matrix(N, M):  \n",
    "    matrix = np.random.randint(0, 2, size=(N, M))  # 生成随机 0 和 1 的矩阵  \n",
    "    matrix[0][0] = 1  # 左上角设置为 1  \n",
    "    matrix[N-1][M-1] = 1  # 右下角设置为 1  \n",
    "    return matrix  \n",
    "#matrix = create_matrix(10,8)\n",
    "#print(matrix)\n",
    "\n",
    "#计算从左上角到右下角的路径数量  \n",
    "def count_paths(matrix):  \n",
    "    N, M = matrix.shape  # 获取矩阵的行数和列数  \n",
    "    dp = np.zeros((N, M), dtype=int)  # 创建一个与输入矩阵同样大小的 dp 矩阵，矩阵中的值含义为到该点的总路径数量  \n",
    "\n",
    "    # 只有起始点和终点可以为 1, 开始计算路径  \n",
    "    dp[0][0] = 1  # 路径起始点为 1 \n",
    "\n",
    "    # 填充 dp 矩阵  \n",
    "    for i in range(N):  \n",
    "        for j in range(M):  \n",
    "            if matrix[i][j] == 1:  # 只有值为 1 的点才能通过  \n",
    "                if i > 0:  # 若有上方走来的路径  \n",
    "                    dp[i][j] += dp[i-1][j]  \n",
    "                if j > 0:  # 从有左边走来的路径  \n",
    "                    dp[i][j] += dp[i][j-1]  \n",
    "    #return dp, dp[N-1][M-1]\n",
    "    return dp[N-1][M-1]  # 返回到达右下角的路径数  \n",
    "\n",
    "#dp, a = count_paths(matrix)\n",
    "#print(dp)\n",
    "#print(a)\n",
    "\n",
    "#运行 Count_path 1000 次并计算路径数量的均值  \n",
    "def run_count_paths(N, M, runs):  \n",
    "    path_counts = []  \n",
    "    for _ in range(runs):  \n",
    "        matrix = create_matrix(N, M)  # 生成新的随机矩阵  \n",
    "        path_count = count_paths(matrix)  # 计算路径数量  \n",
    "        path_counts.append(path_count)  # 添加到路径计数列表中  \n",
    "    return np.mean(path_counts)  # 返回路径数量的均值  \n",
    "\n",
    " \n",
    "mean_path_count = run_count_paths(10, 8, 1000)  \n",
    "print(f\"Mean number of paths from (0,0) to ({10-1},{8-1}): {mean_path_count}\")"
   ]
  },
  {
   "cell_type": "markdown",
   "id": "d4459ba5-4926-4c8b-ad5f-d3c6aeef3970",
   "metadata": {},
   "source": [
    "#### The mean of total number of paths from the 100 runs is 0.281"
   ]
  },
  {
   "cell_type": "code",
   "execution_count": null,
   "id": "10c86db8-1f04-46f1-aa7a-4b70443602f6",
   "metadata": {},
   "outputs": [],
   "source": []
  }
 ],
 "metadata": {
  "kernelspec": {
   "display_name": "ese5023",
   "language": "python",
   "name": "python3"
  },
  "language_info": {
   "codemirror_mode": {
    "name": "ipython",
    "version": 3
   },
   "file_extension": ".py",
   "mimetype": "text/x-python",
   "name": "python",
   "nbconvert_exporter": "python",
   "pygments_lexer": "ipython3",
   "version": "3.11.0"
  }
 },
 "nbformat": 4,
 "nbformat_minor": 5
}
