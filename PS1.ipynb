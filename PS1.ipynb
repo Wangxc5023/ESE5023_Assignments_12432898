{
 "cells": [
  {
   "cell_type": "markdown",
   "id": "3ef112ff-69f8-48b9-b3c6-061e8e23c784",
   "metadata": {},
   "source": [
    "# 1. Flowchart"
   ]
  },
  {
   "cell_type": "code",
   "execution_count": 20,
   "id": "809c0233-9fbc-4b7e-9afa-d9ad98648bc9",
   "metadata": {
    "jp-MarkdownHeadingCollapsed": true
   },
   "outputs": [
    {
     "name": "stdin",
     "output_type": "stream",
     "text": [
      "输入a： 10\n",
      "输入b： 5\n",
      "输入c： 1\n"
     ]
    },
    {
     "name": "stdout",
     "output_type": "stream",
     "text": [
      "5\n"
     ]
    }
   ],
   "source": [
    "a = int(input(\"输入a：\"))\n",
    "b = int(input(\"输入b：\"))\n",
    "c = int(input(\"输入c：\"))\n",
    "\n",
    "def Print_values(a,b,c):\n",
    "    if a>b:\n",
    "        if b>c:\n",
    "            print(a+b-10*c)\n",
    "        else:\n",
    "            if a>c:\n",
    "                print(a+c-10*b)\n",
    "            else:\n",
    "                print(c+a-10*b)\n",
    "    else:\n",
    "        if b>c:\n",
    "            print(\"无输出\")\n",
    "        else:\n",
    "            print(c+b-10*a)\n",
    "\n",
    "Print_values(a,b,c)"
   ]
  },
  {
   "cell_type": "markdown",
   "id": "9ec349b4-4f10-4ac0-b7fb-6cd187088cc6",
   "metadata": {},
   "source": [
    "#### When a = 10, b = 5, c = 1, my output is 5."
   ]
  },
  {
   "cell_type": "markdown",
   "id": "fd00cfb4-b4ea-49ac-8d41-fdb965e76e08",
   "metadata": {},
   "source": [
    "# 2. Continuous ceiling function "
   ]
  },
  {
   "cell_type": "code",
   "execution_count": 4,
   "id": "9a741123-cfdf-4286-927f-01e76e9f8c99",
   "metadata": {},
   "outputs": [
    {
     "name": "stdin",
     "output_type": "stream",
     "text": [
      "要计算多少个正整数的函数值： 7\n"
     ]
    },
    {
     "name": "stdout",
     "output_type": "stream",
     "text": [
      "[1. 2. 3. 4. 5. 6. 7.]\n",
      "[1, 5.0, 7.0, 13.0, 15.0, 17.0, 21.0]\n"
     ]
    }
   ],
   "source": [
    "import math\n",
    "import numpy as np\n",
    "n = int(input(\"要计算多少个正整数的函数值：\"))\n",
    "arr = np.linspace(1, n, n)\n",
    "print(arr)\n",
    "memo = { }  #define a dictionary to store the computerd F(x) values.\n",
    "\n",
    "def F(x):\n",
    "    if x == 1:\n",
    "        return 1\n",
    "    if x in memo:\n",
    "        return memo[x]\n",
    "    result = F(math.ceil(x/3)) + 2*x\n",
    "    memo[x] = result  #store the result for future reference\n",
    "    return result\n",
    "\n",
    "def compute_F(list):\n",
    "    return [F(x) for x in list]\n",
    "\n",
    "results = compute_F(arr)\n",
    "print(results)"
   ]
  },
  {
   "cell_type": "markdown",
   "id": "34e753a3-47ea-4ab6-85d4-aefd1df95f4b",
   "metadata": {},
   "source": [
    "#### Here, I input n = 7."
   ]
  },
  {
   "cell_type": "markdown",
   "id": "553bf5ad-6d55-43e8-b2cf-51c15588c44e",
   "metadata": {},
   "source": [
    "# 3. Dice rolling"
   ]
  },
  {
   "cell_type": "code",
   "execution_count": 32,
   "id": "bf56be4f-13a5-479d-8ff9-17c5fbc6ca9d",
   "metadata": {
    "jp-MarkdownHeadingCollapsed": true
   },
   "outputs": [
    {
     "name": "stdout",
     "output_type": "stream",
     "text": [
      "{10: 1, 11: 10, 12: 55, 13: 220, 14: 715, 15: 2002, 16: 4995, 17: 11340, 18: 23760, 19: 46420, 20: 85228, 21: 147940, 22: 243925, 23: 383470, 24: 576565, 25: 831204, 26: 1151370, 27: 1535040, 28: 1972630, 29: 2446300, 30: 2930455, 31: 3393610, 32: 3801535, 33: 4121260, 34: 4325310, 35: 4395456, 36: 4325310, 37: 4121260, 38: 3801535, 39: 3393610, 40: 2930455, 41: 2446300, 42: 1972630, 43: 1535040, 44: 1151370, 45: 831204, 46: 576565, 47: 383470, 48: 243925, 49: 147940, 50: 85228, 51: 46420, 52: 23760, 53: 11340, 54: 4995, 55: 2002, 56: 715, 57: 220, 58: 55, 59: 10, 60: 1}\n",
      "[35] 4395456\n"
     ]
    }
   ],
   "source": [
    "def find_number_of_ways(n, s):  \n",
    "    # n: 骰子的数量, s: 目标和  \n",
    "    min_sum = n  # 目标数最小总和 (n个 1)  \n",
    "    max_sum = 6 * n  # 目标数最大总和 (n个 6)  \n",
    "    \n",
    "    # 如果目标和不在可达到的范围内，返回 0  \n",
    "    if s < min_sum or s > max_sum:  \n",
    "        return 0  \n",
    "    \n",
    "    # dp[i] 表示使用 n 个骰子得到总和为 i 的方式数  \n",
    "    ways = [[0] * (s + 1) for _ in range(n + 1)]  \n",
    "    \n",
    "    # 初始化：0 个骰子和为 0 的情况  \n",
    "    ways[0][0] = 1  \n",
    "    \n",
    "    # 进行迭代每个骰子  \n",
    "    for i in range(1, n + 1):  # 对每个骰子  \n",
    "        for j in range(i, s + 1):  # 当投掷 i个骰子时，和最小为 i，遍历和从 i 到 s 的情况  \n",
    "            # 累加每个骰子的面可能产生的结果  \n",
    "            for k in range(1, 7):  # 每个骰子可能的面  \n",
    "                if j - k >= 0:  \n",
    "                    ways[i][j] += ways[i - 1][j - k]  # 当前骰子的结果 dp[i - 1][j - k] 表示在使用 i - 1 个骰子时，想要得到和为 j - k 的方法数。这意味着，如果我们加上当前骰子的结果 k，我们就可以得到和为 j 的方式  \n",
    "\n",
    "    return ways[n][s]  \n",
    "\n",
    "# 计算从 10 到 60 所有和的方式数量  \n",
    "def count_all_ways(n):  \n",
    "    maximum_sum = 6 * n  \n",
    "    Number_of_ways = {}  #定义一个字典存储所有的目标和及其方法数量\n",
    "\n",
    "    for s in range(n, maximum_sum + 1):  # 从 n 到 6n  \n",
    "        Number_of_ways[s] = find_number_of_ways(n, s)   \n",
    "\n",
    "    max_value = max(Number_of_ways.values())    #获得字典中最大的方法数量\n",
    "    max_target = [key for key, value in Number_of_ways.items() if value == max_value] #获得字典中最大的方法数量对应的目标和\n",
    "    \n",
    "    return Number_of_ways, max_target, max_value  \n",
    "\n",
    "\n",
    "n = 10  # 投掷 10 个骰子  \n",
    "Number_of_ways, max_target, max_value = count_all_ways(n)  \n",
    "print(Number_of_ways)  # 输出目标和方式数字典  \n",
    "print(max_target, max_value)  # 输出最大数量和对应的目标数  \n",
    "\n",
    "# 特殊情况测试  \n",
    "#print(find_number_of_ways(n, 10))  # 输出方法数量，对于目标和为10"
   ]
  },
  {
   "cell_type": "markdown",
   "id": "af97259f-0647-4999-b526-9d50842b5a02",
   "metadata": {},
   "source": [
    "#### When x = 35, there are the maximum of the Number_of ways. The maximum of the Number_of ways is 4395456."
   ]
  },
  {
   "cell_type": "markdown",
   "id": "83351584-af64-4499-87ba-747336251320",
   "metadata": {},
   "source": [
    "# 4. Dynamic programming"
   ]
  },
  {
   "cell_type": "markdown",
   "id": "3da9c920-ec90-4129-94b6-9c8b6b4285b2",
   "metadata": {},
   "source": [
    "### code 1\n",
    "该题的图像绘制部分我请教了李东宸同学"
   ]
  },
  {
   "cell_type": "code",
   "execution_count": 47,
   "id": "212f9c2c-1d57-4927-8340-1b59095e1f94",
   "metadata": {},
   "outputs": [
    {
     "name": "stdout",
     "output_type": "stream",
     "text": [
      "[7.0, 19.5, 35.0, 71.25, 161.2, 388.50000000000006, 562.4285714285713, 1306.875, 3406.666666666664, 4296.5999999999985, 10979.36363636364, 12967.500000000045, 35284.30769230765, 95957.57142857138, 155097.13333333327, 434169.37499999715, 686195.2352941144, 1412659.5000000098, 2621435.000000012, 4456443.750000059]\n"
     ]
    },
    {
     "data": {
      "image/png": "[encoded data removed]",
      "text/plain": [
       "<Figure size 1000x500 with 1 Axes>"
      ]
     },
     "metadata": {},
     "output_type": "display_data"
    }
   ],
   "source": [
    "import random  \n",
    "from itertools import combinations   \n",
    "import matplotlib.pyplot as plt   \n",
    "# 使用 Jupyter Notebook 的默认绘图模式（inline 模式）\n",
    "%matplotlib inline\n",
    "def random_integer(N):  \n",
    "    return [random.randint(0, 10) for _ in range(N)]  # 生成 N个 0-10范围内的随机整数  \n",
    "\n",
    "def sum_averages(arr):  # 计算在给定数组的所有非空子集的平均值之和   \n",
    "    ave_sum = 0  \n",
    "    count = 0  \n",
    "    \n",
    "    # 遍历所有的非空子集  \n",
    "    for r in range(1, len(arr) + 1):  \n",
    "        for subset in combinations(arr, r):  # 用于生成数组中大小为 r 的所有组合（子集）  \n",
    "            avg = sum(subset) / len(subset)  # 计算当前子集的平均值  \n",
    "            ave_sum += avg  \n",
    "            count += 1  \n",
    "            \n",
    "    return ave_sum  \n",
    "\n",
    "N_values = list(range(1, 21))  # 从 1 到 100  \n",
    "Total_sum_averages = []  \n",
    "\n",
    "for N in N_values:  \n",
    "    random_array = random_integer(N)  # 生成随机数组  \n",
    "    total_sum = sum_averages(random_array)  # 计算所有子集的平均值的总和  \n",
    "    Total_sum_averages.append(total_sum)  # 将结果添加到列表中  \n",
    "print(Total_sum_averages)  \n",
    "\n",
    "# 绘制结果  \n",
    "plt.figure(figsize=(10, 5))  \n",
    "plt.plot(N_values, Total_sum_averages, marker='o')  \n",
    "plt.title('Sum of Averages of All Subsets vs N')  \n",
    "plt.xlabel('N (Size of the array)')  \n",
    "plt.ylabel('Total Sum of Averages')  \n",
    "plt.grid()  \n",
    "plt.show()  "
   ]
  },
  {
   "cell_type": "markdown",
   "id": "38d87ae9-4dcd-4ff2-8b67-b7d385d0c8f5",
   "metadata": {},
   "source": [
    "### code 2\n",
    "以上代码是通过遍历所有的非空子集来计算每个子集的平均值并求和，计算过程复杂，计算缓慢，故以上代码只计算了 N = 21 个元素时子集均值和，N = 100时运行无结果。请教尹自豪后，他指出以上代码迭代较复杂，应进行优化。在查阅相关材料后，对代码进行修改优化如下。"
   ]
  },
  {
   "cell_type": "code",
   "execution_count": 45,
   "id": "520c60a4-73f5-4f5e-996d-1ec2032ad61b",
   "metadata": {
    "scrolled": true
   },
   "outputs": [
    {
     "name": "stdout",
     "output_type": "stream",
     "text": [
      "[3.0, 7.0, 21.333333333333332, 30.0, 86.4, 85.33333333333333, 438.85714285714283, 832.0, 1280.0, 2406.4, 4561.454545454545, 9386.666666666666, 22370.46153846154, 41545.142857142855, 90658.13333333333, 145408.0, 354665.4117647059, 662641.7777777778, 1131358.3157894737, 3224371.2, 4094439.619047619, 11915636.363636363, 17141938.086956523, 39146837.333333336, 61740154.88, 147123278.76923078, 308203671.7037037, 752577974.8571428, 1082998219.0344827, 2738041651.2, 5507256452.129032, 10066329600.0, 23557244865.939392, 41181157014.588234, 85899345920.0, 207112867384.8889, 343597383680.0, 647409807144.421, 1473063655161.4358, 2968681394995.2, 4934393646604.488, 13874789588601.904, 23217594372572.277, 44980021136290.91, 116890302828452.98, 165213573286689.4, 326391196398526.6, 747667906887680.0, 1332697848915759.0, 2826008766174986.0, 5872340690590941.0, 1.138891059613885e+16, 2.0393658689979604e+16, 4.036559666013556e+16, 7.860828440501229e+16, 2.071655828590428e+17, 3.527029602909104e+17, 6.733657925613266e+17, 1.2555119774744054e+18, 3.0552419872081444e+18, 5.065294479256312e+18, 1.152921504606847e+19, 2.6718498360730104e+19, 5.058443101462541e+19, 9.478788493259986e+19, 1.559588362595444e+20, 3.480102165547593e+20, 7.834440718363703e+20, 1.2875292675215246e+21, 2.9430462545026896e+21, 5.736677593626858e+21, 1.1281208820188597e+22, 2.374121231798849e+22, 4.875524314746499e+22, 8.941013874233195e+22, 1.8292956481010836e+23, 3.581638994799835e+23, 6.955198225026472e+23, 1.4958544160421518e+24, 2.856087248839561e+24, 5.984929057598349e+24, 1.1204678328135587e+25, 2.365416302474889e+25, 4.939325491568342e+25, 1.0194800323526661e+26, 1.9792645976946488e+26, 4.5266629310076047e+26, 7.772293996649688e+26, 1.3978985836874238e+27, 3.2255215468046854e+27, 5.78158809556359e+27, 1.3724987392077043e+28, 2.608991910751984e+28, 4.82533223823578e+28, 9.799272732027432e+28, 2.1622686019517974e+29, 3.7653796823789546e+29, 7.825802174878355e+29, 1.616574629078929e+30, 3.2388472835831263e+30]\n"
     ]
    },
    {
     "data": {
      "image/png": "[encoded data removed]",
      "text/plain": [
       "<Figure size 1000x500 with 1 Axes>"
      ]
     },
     "metadata": {},
     "output_type": "display_data"
    }
   ],
   "source": [
    "import random  \n",
    "import matplotlib.pyplot as plt  \n",
    "\n",
    "# 使用 Jupyter Notebook 的默认绘图模式（inline 模式）  \n",
    "%matplotlib inline                                       \n",
    "\n",
    "def random_integer(N):  \n",
    "    return [random.randint(0, 10) for _ in range(N)]  # 生成 N个 0-10范围内的随机整数  \n",
    "\n",
    "def sum_averages(arr):  \n",
    "    total = sum(arr)  \n",
    "    n = len(arr)  \n",
    "    \n",
    "    # 每个元素的贡献  \n",
    "    # 每个元素出现的子集数是 2^(n-1)，所以总子集数除以元素个数  \n",
    "    return total * (2**(n-1)) / n  # 每个元素的贡献情况  \n",
    "\n",
    "N_values = list(range(1, 101))  # 从 1 到 20  \n",
    "Total_sum_averages = []  \n",
    "\n",
    "for N in N_values:  \n",
    "    random_array = random_integer(N)  # 生成随机数组  \n",
    "    total_sum = sum_averages(random_array)  # 计算所有子集的平均值的总和  \n",
    "    Total_sum_averages.append(total_sum)  # 将结果添加到列表中  \n",
    "\n",
    "print(Total_sum_averages)  \n",
    "\n",
    "# 绘制结果  \n",
    "plt.figure(figsize=(10, 5))  \n",
    "plt.plot(N_values, Total_sum_averages, marker='o')  \n",
    "plt.title('Sum of Averages of All Subsets vs N')  \n",
    "plt.xlabel('N (Size of the array)')  \n",
    "plt.ylabel('Total Sum of Averages')  \n",
    "plt.grid()  \n",
    "plt.show()"
   ]
  },
  {
   "cell_type": "markdown",
   "id": "a745a388-36e4-4257-adfd-caa9cc54202e",
   "metadata": {},
   "source": [
    "#### As N becomes larger, the sum of subsets in the array gradually increase, and the growth rate also gradually increase."
   ]
  },
  {
   "cell_type": "markdown",
   "id": "600106e4-7d00-4253-81af-7ed473f10ebe",
   "metadata": {},
   "source": [
    "# 5. Path counting"
   ]
  },
  {
   "cell_type": "code",
   "execution_count": 40,
   "id": "ca9e1afe-4429-41cf-83d2-5d8aa24e7ccd",
   "metadata": {},
   "outputs": [
    {
     "name": "stdout",
     "output_type": "stream",
     "text": [
      "Mean number of paths from (0,0) to (9,7): 0.281\n"
     ]
    }
   ],
   "source": [
    "import random  \n",
    "import numpy as np  \n",
    "\n",
    "#创建一个 N 行 M 列的矩阵，右下和左上角填充 1 其他随机填充 0 或 1  \n",
    "def create_matrix(N, M):  \n",
    "    matrix = np.random.randint(0, 2, size=(N, M))  # 生成随机 0 和 1 的矩阵  \n",
    "    matrix[0][0] = 1  # 左上角设置为 1  \n",
    "    matrix[N-1][M-1] = 1  # 右下角设置为 1  \n",
    "    return matrix  \n",
    "#matrix = create_matrix(10,8)\n",
    "#print(matrix)\n",
    "\n",
    "#计算从左上角到右下角的路径数量  \n",
    "def count_paths(matrix):  \n",
    "    N, M = matrix.shape  # 获取矩阵的行数和列数  \n",
    "    dp = np.zeros((N, M), dtype=int)  # 创建一个与输入矩阵同样大小的 dp 矩阵，矩阵中的值含义为到该点的总路径数量  \n",
    "\n",
    "    # 只有起始点和终点可以为 1, 开始计算路径  \n",
    "    dp[0][0] = 1  # 路径起始点为 1 \n",
    "\n",
    "    # 填充 dp 矩阵  \n",
    "    for i in range(N):  \n",
    "        for j in range(M):  \n",
    "            if matrix[i][j] == 1:  # 只有值为 1 的点才能通过  \n",
    "                if i > 0:  # 若有上方走来的路径  \n",
    "                    dp[i][j] += dp[i-1][j]  \n",
    "                if j > 0:  # 从有左边走来的路径  \n",
    "                    dp[i][j] += dp[i][j-1]  \n",
    "    #return dp, dp[N-1][M-1]\n",
    "    return dp[N-1][M-1]  # 返回到达右下角的路径数  \n",
    "\n",
    "#dp, a = count_paths(matrix)\n",
    "#print(dp)\n",
    "#print(a)\n",
    "\n",
    "#运行 Count_path 1000 次并计算路径数量的均值  \n",
    "def run_count_paths(N, M, runs):  \n",
    "    path_counts = []  \n",
    "    for _ in range(runs):  \n",
    "        matrix = create_matrix(N, M)  # 生成新的随机矩阵  \n",
    "        path_count = count_paths(matrix)  # 计算路径数量  \n",
    "        path_counts.append(path_count)  # 添加到路径计数列表中  \n",
    "    return np.mean(path_counts)  # 返回路径数量的均值  \n",
    "\n",
    " \n",
    "mean_path_count = run_count_paths(10, 8, 1000)  \n",
    "print(f\"Mean number of paths from (0,0) to ({10-1},{8-1}): {mean_path_count}\")"
   ]
  },
  {
   "cell_type": "markdown",
   "id": "d4459ba5-4926-4c8b-ad5f-d3c6aeef3970",
   "metadata": {},
   "source": [
    "#### The mean of total number of paths from the 100 runs is 0.281"
   ]
  },
  {
   "cell_type": "code",
   "execution_count": null,
   "id": "10c86db8-1f04-46f1-aa7a-4b70443602f6",
   "metadata": {},
   "outputs": [],
   "source": []
  }
 ],
 "metadata": {
  "kernelspec": {
   "display_name": "Python 3 (ipykernel)",
   "language": "python",
   "name": "python3"
  },
  "language_info": {
   "codemirror_mode": {
    "name": "ipython",
    "version": 3
   },
   "file_extension": ".py",
   "mimetype": "text/x-python",
   "name": "python",
   "nbconvert_exporter": "python",
   "pygments_lexer": "ipython3",
   "version": "3.12.4"
  }
 },
 "nbformat": 4,
 "nbformat_minor": 5
}
